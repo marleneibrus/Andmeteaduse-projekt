{
 "cells": [
  {
   "cell_type": "markdown",
   "id": "ceb7c654",
   "metadata": {},
   "source": [
    "# DATA SCIENCE PROJECT E9\n",
    "## KAGGLE - Stanford Ribonanza RNA Folding\n",
    "We are implementing a model created by user greySnow on Kaggle: https://www.kaggle.com/code/shlomoron/srrf-transformer-tpu-training/notebook with multiple alterations. These alterations include mainly simplifcations to the model in order to be able to run it on our computers. We decided to make some changes once we took into account the limited computational power of our computers."
   ]
  },
  {
   "cell_type": "markdown",
   "id": "24269c0b",
   "metadata": {},
   "source": [
    "### Step 1: Importing libraries and decoding data"
   ]
  },
  {
   "cell_type": "markdown",
   "id": "2b25a334",
   "metadata": {},
   "source": [
    "First of all, we will import all of the necessary libraries for building our model. Some of these libraries may need to be additionally installed."
   ]
  },
  {
   "cell_type": "code",
   "execution_count": 55,
   "id": "944c4919",
   "metadata": {},
   "outputs": [],
   "source": [
    "from pathlib import Path # For \n",
    "import os # For interacting with the operating system\n",
    "import numpy as np # For numerical operations\n",
    "import pandas as pd # For data manipulation\n",
    "import matplotlib.pyplot as plt # For data visualization\n",
    "%matplotlib inline\n",
    "\n",
    "import platform # For determining the platform the notebook is running on\n",
    "import tensorflow as tf # For machine learning\n",
    "import shutil # For file operations\n",
    "import gc # For garbage collection\n",
    "import math\n",
    "import itertools # For iterating through hyperparameters"
   ]
  },
  {
   "cell_type": "code",
   "execution_count": 56,
   "id": "960cbce3",
   "metadata": {},
   "outputs": [],
   "source": [
    "# !pip install tensorflow\n",
    "# (etc)"
   ]
  },
  {
   "cell_type": "code",
   "execution_count": 57,
   "id": "4d724c25",
   "metadata": {},
   "outputs": [],
   "source": [
    "PAD_x = 0.0\n",
    "PAD_y = np.nan\n",
    "X_max_len = 206\n",
    "batch_size = 256\n",
    "val_batch_size = 512\n",
    "\n",
    "num_vocab = 5\n",
    "hidden_dim = 100"
   ]
  },
  {
   "cell_type": "code",
   "execution_count": 58,
   "id": "9270881d",
   "metadata": {},
   "outputs": [],
   "source": [
    "# Here we set a desired precision policy, that defines how tensorflow will handle numerical precision for operations. \n",
    "policyConfig = 'float32'\n",
    "policy = tf.keras.mixed_precision.Policy(policyConfig)\n",
    "tf.keras.mixed_precision.set_global_policy(policy)"
   ]
  },
  {
   "cell_type": "code",
   "execution_count": 59,
   "id": "64c66c93",
   "metadata": {},
   "outputs": [],
   "source": [
    "# From Kaggle\n",
    "# Setting up the TensorFlow environment for training a model on a Tensor Processing Unit (TPU)\n",
    "tpu = None\n",
    "try: # Attempting to connect to a local TPU and if succesful, setting up a distributed training strategy for leveraging TPU's parallel computing capabilities. \n",
    "    tpu = tf.distribute.cluster_resolver.TPUClusterResolver.connect(tpu=\"local\") # \"local\" for 1VM TPU\n",
    "    strategy = tf.distribute.TPUStrategy(tpu)\n",
    "    print(\"on TPU\")\n",
    "    print(\"REPLICAS: \", strategy.num_replicas_in_sync)\n",
    "except: # If no TPU found, set up a default strategy (training on a GPU)\n",
    "    strategy = tf.distribute.get_strategy()"
   ]
  },
  {
   "cell_type": "code",
   "execution_count": 60,
   "id": "8a6c757f",
   "metadata": {},
   "outputs": [],
   "source": [
    "# From Kaggle\n",
    "# Defining the filepath and file names for our TFRecord files.\n",
    "tffiles_path = 'tfrfile'\n",
    "tffiles = ['{}/{:03d}.tfrecord'.format(tffiles_path, idx) for idx  in range(164)]"
   ]
  },
  {
   "cell_type": "code",
   "execution_count": 61,
   "id": "1e005d86",
   "metadata": {},
   "outputs": [],
   "source": [
    "# From Kaggle, modified according to our TFRecord files.\n",
    "# A method for decoding the TFRecord files made in the notebook \"CVStoTFRecords.ipynb\"\n",
    "def decode_tfrec(record_bytes):\n",
    "    schema = {}\n",
    "    schema[\"id\"] = tf.io.VarLenFeature(dtype=tf.string)\n",
    "    schema[\"seq\"] = tf.io.VarLenFeature(dtype=tf.float32)\n",
    "    schema[\"dataset_name_2A3\"] = tf.io.VarLenFeature(dtype=tf.string)\n",
    "    schema[\"dataset_name_DMS\"] = tf.io.VarLenFeature(dtype=tf.string)\n",
    "    schema[\"reactivity_2A3\"] = tf.io.VarLenFeature(dtype=tf.float32)\n",
    "    schema[\"reactivity_DMS\"] = tf.io.VarLenFeature(dtype=tf.float32)\n",
    "    schema[\"reactivity_error_2A3\"] = tf.io.VarLenFeature(dtype=tf.float32)\n",
    "    schema[\"reactivity_error_DMS\"] = tf.io.VarLenFeature(dtype=tf.float32)\n",
    "    features = tf.io.parse_single_example(record_bytes, schema)\n",
    "\n",
    "    sample_id = tf.sparse.to_dense(features[\"id\"])\n",
    "    seq = tf.sparse.to_dense(features[\"seq\"])\n",
    "    dataset_name_2A3 = tf.sparse.to_dense(features[\"dataset_name_2A3\"])\n",
    "    dataset_name_DMS = tf.sparse.to_dense(features[\"dataset_name_DMS\"])\n",
    "    reactivity_2A3 = tf.sparse.to_dense(features[\"reactivity_2A3\"])\n",
    "    reactivity_DMS = tf.sparse.to_dense(features[\"reactivity_DMS\"])\n",
    "    reactivity_error_2A3 = tf.sparse.to_dense(features[\"reactivity_error_2A3\"])\n",
    "    reactivity_error_DMS = tf.sparse.to_dense(features[\"reactivity_error_DMS\"])\n",
    "\n",
    "    out = {}\n",
    "    out['seq']  = seq\n",
    "    out['reactivity_2A3']  = reactivity_2A3\n",
    "    out['reactivity_DMS']  = reactivity_DMS\n",
    "    return out"
   ]
  },
  {
   "cell_type": "code",
   "execution_count": 62,
   "id": "9c3b34b7",
   "metadata": {},
   "outputs": [],
   "source": [
    "# From Kaggle\n",
    "# A method for importing the TFRecord data\n",
    "def get_tfrec_dataset(tffiles, shuffle, batch_size, cache = False, calculate_sample_num = True, to_repeat = False):\n",
    "    ds = tf.data.TFRecordDataset(\n",
    "        tffiles, num_parallel_reads=tf.data.AUTOTUNE, compression_type = 'GZIP').prefetch(tf.data.AUTOTUNE)\n",
    "\n",
    "    ds = ds.map(decode_tfrec, tf.data.AUTOTUNE)\n",
    "    ds = ds.map(concat_target, tf.data.AUTOTUNE)\n",
    "\n",
    "    if cache:\n",
    "        ds = ds.cache()\n",
    "\n",
    "    samples_num = 0\n",
    "    if calculate_sample_num:\n",
    "        samples_num = ds.reduce(0, lambda x,_: x+1).numpy()        \n",
    "\n",
    "    if shuffle:\n",
    "        if shuffle == -1:\n",
    "            ds = ds.shuffle(samples_num, reshuffle_each_iteration = True)\n",
    "        else:\n",
    "            ds = ds.shuffle(shuffle, reshuffle_each_iteration = True)\n",
    "\n",
    "    if to_repeat:\n",
    "        ds = ds.repeat()\n",
    "    \n",
    "    \n",
    "    if batch_size:\n",
    "        ds = ds.padded_batch(\n",
    "            batch_size, padding_values=(PAD_x, PAD_y), padded_shapes=([X_max_len],[X_max_len, 2]), drop_remainder=True)\n",
    "    ds = ds.prefetch(tf.data.AUTOTUNE)\n",
    "    return ds, samples_num"
   ]
  },
  {
   "cell_type": "code",
   "execution_count": 63,
   "id": "41d661b3",
   "metadata": {},
   "outputs": [],
   "source": [
    "val_len = 5\n",
    "\n",
    "val_files = tffiles[:val_len]\n",
    "\n",
    "train_files = tffiles[val_len:]"
   ]
  },
  {
   "cell_type": "code",
   "execution_count": 64,
   "id": "8919e801",
   "metadata": {},
   "outputs": [
    {
     "name": "stdout",
     "output_type": "stream",
     "text": [
      "['tfrfile/005.tfrecord', 'tfrfile/006.tfrecord', 'tfrfile/007.tfrecord', 'tfrfile/008.tfrecord', 'tfrfile/009.tfrecord', 'tfrfile/010.tfrecord', 'tfrfile/011.tfrecord', 'tfrfile/012.tfrecord', 'tfrfile/013.tfrecord', 'tfrfile/014.tfrecord', 'tfrfile/015.tfrecord', 'tfrfile/016.tfrecord', 'tfrfile/017.tfrecord', 'tfrfile/018.tfrecord', 'tfrfile/019.tfrecord', 'tfrfile/020.tfrecord', 'tfrfile/021.tfrecord', 'tfrfile/022.tfrecord', 'tfrfile/023.tfrecord', 'tfrfile/024.tfrecord', 'tfrfile/025.tfrecord', 'tfrfile/026.tfrecord', 'tfrfile/027.tfrecord', 'tfrfile/028.tfrecord', 'tfrfile/029.tfrecord', 'tfrfile/030.tfrecord', 'tfrfile/031.tfrecord', 'tfrfile/032.tfrecord', 'tfrfile/033.tfrecord', 'tfrfile/034.tfrecord', 'tfrfile/035.tfrecord', 'tfrfile/036.tfrecord', 'tfrfile/037.tfrecord', 'tfrfile/038.tfrecord', 'tfrfile/039.tfrecord', 'tfrfile/040.tfrecord', 'tfrfile/041.tfrecord', 'tfrfile/042.tfrecord', 'tfrfile/043.tfrecord', 'tfrfile/044.tfrecord', 'tfrfile/045.tfrecord', 'tfrfile/046.tfrecord', 'tfrfile/047.tfrecord', 'tfrfile/048.tfrecord', 'tfrfile/049.tfrecord', 'tfrfile/050.tfrecord', 'tfrfile/051.tfrecord', 'tfrfile/052.tfrecord', 'tfrfile/053.tfrecord', 'tfrfile/054.tfrecord', 'tfrfile/055.tfrecord', 'tfrfile/056.tfrecord', 'tfrfile/057.tfrecord', 'tfrfile/058.tfrecord', 'tfrfile/059.tfrecord', 'tfrfile/060.tfrecord', 'tfrfile/061.tfrecord', 'tfrfile/062.tfrecord', 'tfrfile/063.tfrecord', 'tfrfile/064.tfrecord', 'tfrfile/065.tfrecord', 'tfrfile/066.tfrecord', 'tfrfile/067.tfrecord', 'tfrfile/068.tfrecord', 'tfrfile/069.tfrecord', 'tfrfile/070.tfrecord', 'tfrfile/071.tfrecord', 'tfrfile/072.tfrecord', 'tfrfile/073.tfrecord', 'tfrfile/074.tfrecord', 'tfrfile/075.tfrecord', 'tfrfile/076.tfrecord', 'tfrfile/077.tfrecord', 'tfrfile/078.tfrecord', 'tfrfile/079.tfrecord', 'tfrfile/080.tfrecord', 'tfrfile/081.tfrecord', 'tfrfile/082.tfrecord', 'tfrfile/083.tfrecord', 'tfrfile/084.tfrecord', 'tfrfile/085.tfrecord', 'tfrfile/086.tfrecord', 'tfrfile/087.tfrecord', 'tfrfile/088.tfrecord', 'tfrfile/089.tfrecord', 'tfrfile/090.tfrecord', 'tfrfile/091.tfrecord', 'tfrfile/092.tfrecord', 'tfrfile/093.tfrecord', 'tfrfile/094.tfrecord', 'tfrfile/095.tfrecord', 'tfrfile/096.tfrecord', 'tfrfile/097.tfrecord', 'tfrfile/098.tfrecord', 'tfrfile/099.tfrecord', 'tfrfile/100.tfrecord', 'tfrfile/101.tfrecord', 'tfrfile/102.tfrecord', 'tfrfile/103.tfrecord', 'tfrfile/104.tfrecord', 'tfrfile/105.tfrecord', 'tfrfile/106.tfrecord', 'tfrfile/107.tfrecord', 'tfrfile/108.tfrecord', 'tfrfile/109.tfrecord', 'tfrfile/110.tfrecord', 'tfrfile/111.tfrecord', 'tfrfile/112.tfrecord', 'tfrfile/113.tfrecord', 'tfrfile/114.tfrecord', 'tfrfile/115.tfrecord', 'tfrfile/116.tfrecord', 'tfrfile/117.tfrecord', 'tfrfile/118.tfrecord', 'tfrfile/119.tfrecord', 'tfrfile/120.tfrecord', 'tfrfile/121.tfrecord', 'tfrfile/122.tfrecord', 'tfrfile/123.tfrecord', 'tfrfile/124.tfrecord', 'tfrfile/125.tfrecord', 'tfrfile/126.tfrecord', 'tfrfile/127.tfrecord', 'tfrfile/128.tfrecord', 'tfrfile/129.tfrecord', 'tfrfile/130.tfrecord', 'tfrfile/131.tfrecord', 'tfrfile/132.tfrecord', 'tfrfile/133.tfrecord', 'tfrfile/134.tfrecord', 'tfrfile/135.tfrecord', 'tfrfile/136.tfrecord', 'tfrfile/137.tfrecord', 'tfrfile/138.tfrecord', 'tfrfile/139.tfrecord', 'tfrfile/140.tfrecord', 'tfrfile/141.tfrecord', 'tfrfile/142.tfrecord', 'tfrfile/143.tfrecord', 'tfrfile/144.tfrecord', 'tfrfile/145.tfrecord', 'tfrfile/146.tfrecord', 'tfrfile/147.tfrecord', 'tfrfile/148.tfrecord', 'tfrfile/149.tfrecord', 'tfrfile/150.tfrecord', 'tfrfile/151.tfrecord', 'tfrfile/152.tfrecord', 'tfrfile/153.tfrecord', 'tfrfile/154.tfrecord', 'tfrfile/155.tfrecord', 'tfrfile/156.tfrecord', 'tfrfile/157.tfrecord', 'tfrfile/158.tfrecord', 'tfrfile/159.tfrecord', 'tfrfile/160.tfrecord', 'tfrfile/161.tfrecord', 'tfrfile/162.tfrecord', 'tfrfile/163.tfrecord']\n"
     ]
    }
   ],
   "source": [
    "print(train_files)"
   ]
  },
  {
   "cell_type": "code",
   "execution_count": 65,
   "id": "adee8427",
   "metadata": {},
   "outputs": [],
   "source": [
    "# From Kaggle\n",
    "def concat_target(x):\n",
    "    reactivity_2A3 = x['reactivity_2A3']\n",
    "    reactivity_DMS = x['reactivity_DMS']\n",
    "    target = tf.concat([reactivity_2A3[..., tf.newaxis], reactivity_DMS[..., tf.newaxis]], axis = 1)\n",
    "    target = tf.clip_by_value(target, 0, 1)\n",
    "    return x['seq'], target"
   ]
  },
  {
   "cell_type": "code",
   "execution_count": 66,
   "id": "93fe6c9c",
   "metadata": {},
   "outputs": [
    {
     "name": "stdout",
     "output_type": "stream",
     "text": [
      "162688\n",
      "5120\n"
     ]
    }
   ],
   "source": [
    "# Splitting the data into a training dataset and a validation dataset\n",
    "train_dataset, num_train = get_tfrec_dataset(train_files, shuffle = -1, batch_size = batch_size,\n",
    "                                                  cache = True, calculate_sample_num = True,\n",
    "                                            to_repeat = True)\n",
    "\n",
    "val_dataset, num_val = get_tfrec_dataset(val_files, shuffle = False, batch_size = val_batch_size,\n",
    "                                                  cache = True, calculate_sample_num = True)\n",
    "print(num_train)\n",
    "print(num_val)"
   ]
  },
  {
   "cell_type": "code",
   "execution_count": 67,
   "id": "e130c1b5",
   "metadata": {},
   "outputs": [
    {
     "data": {
      "text/plain": [
       "(TensorShape([512, 206]), TensorShape([512, 206, 2]))"
      ]
     },
     "execution_count": 67,
     "metadata": {},
     "output_type": "execute_result"
    }
   ],
   "source": [
    "batch = next(iter(val_dataset))\n",
    "batch[0].shape, batch[1].shape"
   ]
  },
  {
   "cell_type": "markdown",
   "id": "d612b18a",
   "metadata": {},
   "source": [
    "### Step 2: Implementing the model "
   ]
  },
  {
   "cell_type": "code",
   "execution_count": 68,
   "id": "30f79d43",
   "metadata": {},
   "outputs": [],
   "source": [
    "# From Kaggle\n",
    "# A class for the transformer block. This is the basis for the transformer neural network.\n",
    "class transformer_block(tf.keras.layers.Layer):\n",
    "    # A constructor method for the transormer block class.\n",
    "    def __init__(self, dim, num_heads, feed_forward_dim, rate=0.1):\n",
    "        super().__init__() # Constructor of the parent class\n",
    "        self.att = tf.keras.layers.MultiHeadAttention(num_heads=num_heads, key_dim=dim//num_heads)\n",
    "        self.ffn = tf.keras.Sequential(\n",
    "            [\n",
    "                tf.keras.layers.Dense(feed_forward_dim, activation=\"relu\"),\n",
    "                tf.keras.layers.Dense(dim),\n",
    "            ]\n",
    "        )\n",
    "        self.layernorm1 = tf.keras.layers.LayerNormalization(epsilon=1e-6)\n",
    "        self.layernorm2 = tf.keras.layers.LayerNormalization(epsilon=1e-6)\n",
    "        self.dropout1 = tf.keras.layers.Dropout(rate)\n",
    "        self.dropout2 = tf.keras.layers.Dropout(rate)\n",
    "        self.supports_masking = True\n",
    "        \n",
    "\n",
    "    def call(self, inputs, training, mask):\n",
    "        att_mask = tf.expand_dims(mask, axis=-1)\n",
    "        att_mask = tf.repeat(att_mask, repeats=tf.shape(att_mask)[1], axis=-1)\n",
    "\n",
    "        attn_output = self.att(inputs, inputs, attention_mask = att_mask)\n",
    "        attn_output = self.dropout1(attn_output, training=training)\n",
    "        out1 = self.layernorm1(inputs + attn_output)\n",
    "        ffn_output = self.ffn(out1)\n",
    "        ffn_output = self.dropout2(ffn_output, training=training)\n",
    "        return self.layernorm2(out1 + ffn_output)\n",
    "\n",
    "# A class for the positional encoding layer, similar to the encoding layer, but implements positional encoding\n",
    "class positional_encoding_layer(tf.keras.layers.Layer):\n",
    "    def __init__(self, num_vocab=5, maxlen=500, hidden_dim=384):\n",
    "        super().__init__()\n",
    "        self.hidden_dim = hidden_dim\n",
    "        self.pos_emb = self.positional_encoding(maxlen-1, hidden_dim)\n",
    "        self.supports_masking = True\n",
    "\n",
    "        \n",
    "    def call(self, x):\n",
    "        x = tf.cast(x, dtype=tf.float32)  # Ensure input is cast to float32\n",
    "        x = x * tf.math.sqrt(tf.cast(self.hidden_dim, tf.float32))\n",
    "        maxlen = tf.shape(x)[-2]\n",
    "        x = tf.math.multiply(x, tf.math.sqrt(tf.cast(self.hidden_dim, tf.float32)))\n",
    "        return x + self.pos_emb[:maxlen, :]\n",
    "\n",
    "    def positional_encoding(self, maxlen, hidden_dim, ):\n",
    "        depth = hidden_dim/2\n",
    "        positions = tf.range(maxlen, dtype = tf.float32)[..., tf.newaxis]\n",
    "        depths = tf.range(depth, dtype = tf.float32)[np.newaxis, :]/depth\n",
    "        angle_rates = tf.math.divide(1, tf.math.pow(tf.cast(10000, tf.float32), depths))\n",
    "        angle_rads = tf.linalg.matmul(positions, angle_rates)\n",
    "        pos_encoding = tf.concat(\n",
    "          [tf.math.sin(angle_rads), tf.math.cos(angle_rads)],\n",
    "          axis=-1)\n",
    "        return pos_encoding"
   ]
  },
  {
   "cell_type": "code",
   "execution_count": 69,
   "id": "52311462",
   "metadata": {},
   "outputs": [],
   "source": [
    "# From Kaggle\n",
    "# A loss function, that compares the predicted reactivities to label values\n",
    "def loss_fn(labels, targets):\n",
    "    labels_mask = tf.math.is_nan(labels)\n",
    "    labels = tf.where(labels_mask, tf.zeros_like(labels), labels)\n",
    "    mask_count = tf.math.reduce_sum(tf.where(labels_mask, tf.zeros_like(labels), tf.ones_like(labels)))\n",
    "    loss = tf.math.abs(labels - targets)\n",
    "    loss = tf.where(labels_mask, tf.zeros_like(loss), loss)\n",
    "    loss = tf.math.reduce_sum(loss)/mask_count\n",
    "    return loss"
   ]
  },
  {
   "cell_type": "code",
   "execution_count": 70,
   "id": "3f5332c6",
   "metadata": {},
   "outputs": [
    {
     "data": {
      "text/plain": [
       "161808"
      ]
     },
     "execution_count": 70,
     "metadata": {},
     "output_type": "execute_result"
    }
   ],
   "source": [
    "# Use the garbage collection functionality to free up resources for model training.\n",
    "gc.collect()"
   ]
  },
  {
   "cell_type": "code",
   "execution_count": null,
   "id": "985148d7",
   "metadata": {},
   "outputs": [],
   "source": [
    "# From Kaggle\n",
    "# A method for creating a transformer model. Compared to the source code, we have removed 4 transformer blocks in order to improve training time.\n",
    "# We have also reduced the number of hidden dimensions.\n",
    "def get_model(hidden_dim = 300, max_len = 206):\n",
    "    with strategy.scope():\n",
    "        inp = tf.keras.Input([max_len])\n",
    "        x = inp\n",
    "\n",
    "        # Adding an encoding layer and a positional encoding layer.\n",
    "        x = tf.keras.layers.Embedding(num_vocab, hidden_dim, mask_zero=True)(x)\n",
    "        x = positional_encoding_layer(num_vocab=num_vocab, maxlen=500, hidden_dim=hidden_dim)(x)\n",
    "\n",
    "        x = transformer_block(hidden_dim, 6, hidden_dim*4)(x)\n",
    "        x = transformer_block(hidden_dim, 6, hidden_dim*4)(x)\n",
    "        x = transformer_block(hidden_dim, 6, hidden_dim*4)(x)\n",
    "        x = transformer_block(hidden_dim, 6, hidden_dim*4)(x)\n",
    "\n",
    "        x = transformer_block(hidden_dim, 6, hidden_dim*4)(x)\n",
    "        x = transformer_block(hidden_dim, 6, hidden_dim*4)(x)\n",
    "        x = transformer_block(hidden_dim, 6, hidden_dim*4)(x)\n",
    "        x = transformer_block(hidden_dim, 6, hidden_dim*4)(x)\n",
    "\n",
    "        # A dropout layer that helps prevent overfitting.\n",
    "        x = tf.keras.layers.Dropout(0.5)(x)\n",
    "        # A dense layer with 2 units, that produces an output in two classes.\n",
    "        x = tf.keras.layers.Dense(2)(x)\n",
    "\n",
    "        model = tf.keras.Model(inp, x)\n",
    "        loss = loss_fn\n",
    "        # The non legacy AdamW runs slow on computers with the M2 chip.\n",
    "        if platform.system() == \"Darwin\" and platform.processor() == \"arm\":\n",
    "            optimizer = tf.keras.optimizers.legacy.Adam(learning_rate=0.005)\n",
    "        else:\n",
    "            optimizer = tf.keras.optimizers.Adam(learning_rate=0.005)\n",
    "        model.compile(loss=loss, optimizer=optimizer, steps_per_execution = 10)\n",
    "        return model\n",
    "\n",
    "# Freeing up resources for model training.\n",
    "tf.keras.backend.clear_session()\n",
    "\n",
    "# Creating the model and printing out a summary based on the first batch of data\n",
    "model = get_model(hidden_dim = 100,max_len = X_max_len)\n",
    "model(batch[0])\n",
    "model.summary()"
   ]
  },
  {
   "cell_type": "markdown",
   "id": "d7905470",
   "metadata": {},
   "source": [
    "### Step 3: Training the model"
   ]
  },
  {
   "cell_type": "markdown",
   "id": "6ddafbda",
   "metadata": {},
   "source": [
    "We started by find the most suitable hyperparameters for the model without overfitting it. The two hyperparameters that we tuned were the numer of epochs and steps per epoch. The values we tried were 10 for N_EPOCHS and 50 and 100 for steps_per_epoch = 100. <br>\n",
    "<br>\n",
    "One of the main points that this model could be improved upon is by perfming a more in-depth hyperparameter tuning. One of the possibilities for this to perform grid search, but since training our model takes around 2 hours, then for only the values [5, 10] and [50, 100] for number of epochs and steps per epoch, this would take 8 hours in total. By adding more hyperparameters to check or more values, the grid search time would rise significantly.\n",
    "Another way to perform hyperparameter optimixation would be to use the Ray Tune library: https://docs.ray.io/en/latest/tune/index.html. This library would allow us to implement a more optimized way of evaluating hyperparameters compared to grid search. this is done by terminating bad runs early, choosing better parameters or even changing the hyperparameters during training."
   ]
  },
  {
   "cell_type": "code",
   "execution_count": null,
   "id": "782f5a1f",
   "metadata": {},
   "outputs": [],
   "source": [
    "N_EPOCHS = 10\n",
    "\n",
    "N_WARMUP_EPOCHS = 0\n",
    "LR_MAX = 5e-4\n",
    "WD_RATIO = 0.05\n",
    "\n",
    "WARMUP_METHOD = \"exp\""
   ]
  },
  {
   "cell_type": "code",
   "execution_count": null,
   "id": "4bfc2f96",
   "metadata": {},
   "outputs": [],
   "source": [
    "# From Kaggle\n",
    "# A function for calculating the \n",
    "def lrfn(current_step, num_warmup_steps, lr_max, num_cycles=0.50, num_training_steps=N_EPOCHS):\n",
    "    if current_step < num_warmup_steps:\n",
    "        if WARMUP_METHOD == 'log':\n",
    "            return lr_max * 0.10 ** (num_warmup_steps - current_step)\n",
    "        else:\n",
    "            return lr_max * 2 ** -(num_warmup_steps - current_step)\n",
    "    else:\n",
    "        progress = float(current_step - num_warmup_steps) / float(max(1, num_training_steps - num_warmup_steps))\n",
    "\n",
    "        return max(0.0, 0.5 * (1.0 + math.cos(math.pi * float(num_cycles) * 2.0 * progress))) * lr_max\n",
    "\n",
    "def plot_lr_schedule(lr_schedule, epochs):\n",
    "    fig = plt.figure(figsize=(20, 10))\n",
    "    plt.plot([None] + lr_schedule + [None])\n",
    "    # X Labels\n",
    "    x = np.arange(1, epochs + 1)\n",
    "    x_axis_labels = [i if epochs <= 40 or i % 5 == 0 or i == 1 else None for i in range(1, epochs + 1)]\n",
    "    plt.xlim([1, epochs])\n",
    "    plt.xticks(x, x_axis_labels) # set tick step to 1 and let x axis start at 1\n",
    "\n",
    "    # Increase y-limit for better readability\n",
    "    plt.ylim([0, max(lr_schedule) * 1.1])\n",
    "\n",
    "    # Title\n",
    "    schedule_info = f'start: {lr_schedule[0]:.1E}, max: {max(lr_schedule):.1E}, final: {lr_schedule[-1]:.1E}'\n",
    "    plt.title(f'Step Learning Rate Schedule, {schedule_info}', size=18, pad=12)\n",
    "\n",
    "    # Plot Learning Rates\n",
    "    for x, val in enumerate(lr_schedule):\n",
    "        if epochs <= 40 or x % 5 == 0 or x is epochs - 1:\n",
    "            if x < len(lr_schedule) - 1:\n",
    "                if lr_schedule[x - 1] < val:\n",
    "                    ha = 'right'\n",
    "                else:\n",
    "                    ha = 'left'\n",
    "            elif x == 0:\n",
    "                ha = 'right'\n",
    "            else:\n",
    "                ha = 'left'\n",
    "            plt.plot(x + 1, val, 'o', color='black');\n",
    "            offset_y = (max(lr_schedule) - min(lr_schedule)) * 0.02\n",
    "            plt.annotate(f'{val:.1E}', xy=(x + 1, val + offset_y), size=12, ha=ha)\n",
    "\n",
    "    plt.xlabel('Epoch', size=16, labelpad=5)\n",
    "    plt.ylabel('Learning Rate', size=16, labelpad=5)\n",
    "    plt.grid()\n",
    "    plt.show()\n",
    "    plt.savefig('learningrate.pdf')\n",
    "\n",
    "# Learning rate for encoder\n",
    "LR_SCHEDULE = [lrfn(step, num_warmup_steps=N_WARMUP_EPOCHS, lr_max=LR_MAX, num_cycles=0.50) for step in range(N_EPOCHS)]\n",
    "# Plot Learning Rate Schedule\n",
    "plot_lr_schedule(LR_SCHEDULE, epochs=N_EPOCHS)\n",
    "# Learning Rate Callback\n",
    "lr_callback = tf.keras.callbacks.LearningRateScheduler(lambda step: LR_SCHEDULE[step], verbose=0)"
   ]
  },
  {
   "cell_type": "code",
   "execution_count": null,
   "id": "7eceae20",
   "metadata": {},
   "outputs": [],
   "source": [
    "# From Kaggle\n",
    "# A class for saving the model weights as found from training the model.\n",
    "save_folder = 'model_weights' # Folder to save the weights to\n",
    "try:\n",
    "    os.mkdir(f'{save_folder}')\n",
    "except:\n",
    "    pass\n",
    "\n",
    "class save_model_callback(tf.keras.callbacks.Callback):\n",
    "    def __init__(self):\n",
    "        super().__init__()\n",
    "    def on_epoch_end(self, epoch: int, logs=None):\n",
    "        if epoch == 3 or (epoch+1)%25 == 0:\n",
    "            self.model.save_weights(f\"{save_folder}/model_epoch_{epoch}.h5\")"
   ]
  },
  {
   "cell_type": "code",
   "execution_count": null,
   "id": "9f3b54c3",
   "metadata": {},
   "outputs": [],
   "source": [
    "steps_per_epoch = 100\n",
    "val_steps_per_epoch = num_val//val_batch_size\n",
    "print(steps_per_epoch)\n",
    "print(val_steps_per_epoch)"
   ]
  },
  {
   "cell_type": "markdown",
   "id": "19df05f9",
   "metadata": {},
   "source": [
    "Training the model with the best parameters. This step will take about 2 hours in total, about 10 minutes per epoch. The weights found during training are saved using the save_model_callback( ) function. These can then be exported to the inference notebook for testing the model."
   ]
  },
  {
   "cell_type": "code",
   "execution_count": null,
   "id": "1c1d5911",
   "metadata": {},
   "outputs": [],
   "source": [
    "# Training the model with the most suitable parameters\n",
    "history = model.fit(\n",
    "    train_dataset,\n",
    "    validation_data = val_dataset,\n",
    "    epochs = N_EPOCHS,\n",
    "    steps_per_epoch = steps_per_epoch,\n",
    "    validation_steps = val_steps_per_epoch,\n",
    "    verbose = 2,\n",
    "    callbacks = [\n",
    "        save_model_callback(),\n",
    "        lr_callback,\n",
    "    ]\n",
    ")"
   ]
  },
  {
   "cell_type": "code",
   "execution_count": 54,
   "id": "b619de66",
   "metadata": {},
   "outputs": [
    {
     "data": {
      "image/png": "[encoded data removed]",
      "text/plain": [
       "<Figure size 640x480 with 1 Axes>"
      ]
     },
     "metadata": {},
     "output_type": "display_data"
    },
    {
     "data": {
      "text/plain": [
       "<Figure size 640x480 with 0 Axes>"
      ]
     },
     "metadata": {},
     "output_type": "display_data"
    }
   ],
   "source": [
    "# Plotting the loss function graph\n",
    "plt.plot(history.history['loss'], label = \"Training loss\")\n",
    "plt.plot(history.history['val_loss'], label = \"Validation loss\")\n",
    "\n",
    "plt.title('Loss Over Epochs')\n",
    "plt.xlabel('Epoch')\n",
    "plt.ylabel('Loss')\n",
    "\n",
    "plt.legend()\n",
    "\n",
    "plt.show()\n",
    "plt.savefig(\"loss.pdf\", format=\"pdf\")"
   ]
  },
  {
   "cell_type": "code",
   "execution_count": null,
   "id": "214f9da5",
   "metadata": {},
   "outputs": [],
   "source": []
  }
 ],
 "metadata": {
  "kernelspec": {
   "display_name": "Python 3 (ipykernel)",
   "language": "python",
   "name": "python3"
  },
  "language_info": {
   "codemirror_mode": {
    "name": "ipython",
    "version": 3
   },
   "file_extension": ".py",
   "mimetype": "text/x-python",
   "name": "python",
   "nbconvert_exporter": "python",
   "pygments_lexer": "ipython3",
   "version": "3.11.0"
  }
 },
 "nbformat": 4,
 "nbformat_minor": 5
}
